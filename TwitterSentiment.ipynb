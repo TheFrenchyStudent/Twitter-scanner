{
 "cells": [
  {
   "cell_type": "code",
   "execution_count": 2,
   "metadata": {},
   "outputs": [
    {
     "name": "stderr",
     "output_type": "stream",
     "text": [
      "C:\\Users\\VICTOR\\Anaconda3\\lib\\site-packages\\nltk\\twitter\\__init__.py:20: UserWarning: The twython library has not been installed. Some functionality from the twitter package will not be available.\n",
      "  warnings.warn(\"The twython library has not been installed. \"\n"
     ]
    }
   ],
   "source": [
    "import tweepy\n",
    "\n",
    "# Word frequency function\n",
    "import pandas as pd\n",
    "from collections import Counter\n",
    "\n",
    "# Sentiment analysis function\n",
    "from nltk.sentiment.vader import SentimentIntensityAnalyzer\n",
    "import matplotlib.pyplot as plt\n",
    "\n",
    "# Tweet cleaning function\n",
    "import string\n",
    "# Download the stopwords corpus\n",
    "# from nltk import download\n",
    "# download('stopwords')\n",
    "from nltk.corpus import stopwords\n",
    "\n",
    "public_key = \"9s6eo2ApHmfCJJLq7l3hksY0W\" \n",
    "secret_key = \"N5fXK2juNCaXcjfarmJJklTDApDyVaj3tdi0fZkQEUuTVKigfD\"\n",
    "access_token = \"2753152505-OKmaFkltJqNTCGCndXsgYRsSkbnhwnh3zppyhaf\"\n",
    "secret_token = \"8A334mdKaSsmgegiYvHSPdAQ01Nmwj9RI9h3kiWX2zAjL\"\n",
    "\n",
    "auth = tweepy.OAuthHandler(public_key, secret_key)\n",
    "auth.set_access_token(access_token, secret_token)\n",
    "api = tweepy.API(auth)"
   ]
  },
  {
   "cell_type": "code",
   "execution_count": 5,
   "metadata": {},
   "outputs": [],
   "source": [
    "def get_tweets_text(keyword, n_tweets, max_iter = None, display_progress=False):\n",
    "    \"\"\"Wrapper for tweepy search wrapper, allowing to get more tweets than the 100 limit\n",
    "    Only returns the text from the tweets, which is the only thing needed. All the rest is left-out.\n",
    "    Manages issues where the API would return duplicates\"\"\"\n",
    "\n",
    "    try:\n",
    "        if not max_iter:\n",
    "            max_iter = n_tweets / 10 # API limitation (450 requests / 15 min)\n",
    "        ser_texts = pd.Series(name = \"Text\")\n",
    "        # Step 1: Fetches 100 tweets (max authorized by the API)\n",
    "        src = api.search(keyword, count=100, lang=\"en\", tweet_mode='extended')\n",
    "        # Step 2: Retrieves the lowest ID to be reused in further queries as threshold\n",
    "        min_id = min([tweet.id for tweet in src])  \n",
    "        # Step 3: Creates a pd.Series with each row being a unique text from the tweets (uniqueness achieved with set())\n",
    "        #         Only keeps the text of the tweet, rest of the information is lost\n",
    "        tweets_txt = pd.Series(list(set([t.full_text for t in src])))\n",
    "        # Step 4: Appends the texts to the resulting pd.Series\n",
    "        ser_texts = ser_texts.append(tweets_txt, ignore_index = True)\n",
    "        if display_progress:\n",
    "            print(len(tweets_txt),\"unique tweets found\", \"\\nTotal tweets:\", len(ser_texts))\n",
    "\n",
    "        errs = 0 \n",
    "        n_iter = 0 \n",
    "        while len(ser_texts) < n_tweets and n_iter < max_iter: \n",
    "            # Same 4 steps\n",
    "            new_src = api.search(keyword, count=100, lang=\"en\", tweet_mode='extended', max_id=min_id-1)\n",
    "            tweets_txt = pd.Series(list(set([t.full_text for t in new_src if t.full_text not in ser_texts.unique()])))\n",
    "            ser_texts = ser_texts.append(tweets_txt, ignore_index = True)\n",
    "\n",
    "            src = src + new_src\n",
    "            # min_id sometimes can't be recovered for some reason -> if it happens too much, stop the loop\n",
    "            try:\n",
    "                min_id = min([tweet.id for tweet in src])\n",
    "            except Exception as e:\n",
    "                print(\"Failed to recover min_id\")\n",
    "                print(e)\n",
    "                errs += 1\n",
    "                if errs == 5:\n",
    "                    break\n",
    "                else:\n",
    "                    continue\n",
    "            if display_progress:\n",
    "                print(\"Iteration\", n_iter, \"-\",len(tweets_txt),\"unique tweets found\", \"\\nTotal tweets:\", len(ser_texts))\n",
    "            n_iter += 1\n",
    "    except Exception as e:\n",
    "        print(e)\n",
    "    finally:\n",
    "        return ser_texts[:n_tweets]\n",
    "\n",
    "\n",
    "def clean_tweet(tweet):\n",
    "    \"\"\"Function for cleaning a tweet, removing trailing signs & stop words\"\"\"\n",
    "    stop_words = set(stopwords.words('english')) # Defining the stopwords\n",
    "    words_filtered = [word.lower() for word in tweet.split() if len(word) >= 3] # Keeping lengthy words only\n",
    "    words_cleaned = [word for word in words_filtered\n",
    "        if 'http' not in word\n",
    "        and not word.startswith('@')\n",
    "        and not word.startswith('#')\n",
    "        and word != 'RT'] # A few pre-cleaning steps\n",
    "    nostopwords = [word for word in words_cleaned if word not in stop_words] # Remove words qualified as stopwords\n",
    "    sentence = \" \".join(nostopwords) # Join the list of words into a sentence\n",
    "    trans_tab = str.maketrans(\"\",\"\",string.punctuation+\"\\n\") # A translation table mapping punctuation to None\n",
    "    sentence = sentence.translate(trans_tab) # Remove punctuation using the translation table predefined\n",
    "    return sentence\n",
    "    \n",
    "    \n",
    "#### Fetching tweets, looping over each to score them\n",
    "def sentiment_analysis(tweets):\n",
    "    \"\"\"Performs sentiment analysis on each tweet fed and aggregates the results\n",
    "    Also plots positive tweets vs. negative ones\"\"\"\n",
    "    sid = SentimentIntensityAnalyzer()\n",
    "    count = 0\n",
    "    pos = 0\n",
    "    neg = 0\n",
    "    neu = 0\n",
    "    rest = 0\n",
    "    for tweet in tweets:\n",
    "        raw_txt = clean_tweet(tweet)\n",
    "        ss = sid.polarity_scores(raw_txt)\n",
    "        count += 1\n",
    "        if ss[\"neg\"] > ss[\"pos\"] and ss[\"neg\"] >= 0.3:\n",
    "            neg += 1\n",
    "        elif ss[\"pos\"] > ss[\"neg\"] and ss[\"pos\"] >= 0.3:\n",
    "            pos += 1\n",
    "        elif ss[\"neu\"] == 1:\n",
    "            neu += 1\n",
    "        else:\n",
    "            rest += 1  \n",
    "    \n",
    "    print(\"Number of tweets studied: \", count)\n",
    "    print(\"Number of duplicates (sanity check):\", tweets.duplicated().sum())\n",
    "    print(\"Percentage of positive tweets: \", round((pos/count)*100, 2), \"%\")\n",
    "    print(\"Percentage of negative tweets: \", round((neg/count)*100, 2), \"%\")\n",
    "    \n",
    "    plt.bar([\"Positive\", \"Negative\"], [pos, neg], color = ['g', 'r'])\n",
    "    return ({\"Count\" : count, \"pos\" : pos, \"neg\" : neg, \"neut\" : neu, \"Uncertain\" : rest})\n",
    "   \n",
    "    \n",
    "def plot_frequent_words(tweets, exclude=None, n_words=10):\n",
    "    \"\"\"Counts the occurence of each word in all the tweets, and plot it\"\"\"\n",
    "    # For each tweet in the pd.Series, cleans it and add left-over words to words\n",
    "    words = []\n",
    "    for tweet in tweets:\n",
    "        raw_txt = clean_tweet(tweet).split(\" \")\n",
    "        words.extend(raw_txt)\n",
    "    counter = Counter(words) # Dict mapping each word with number of occurences in words\n",
    "    \n",
    "    if exclude: # Enables leaving out specific keywords, such as the one used for the search\n",
    "        if type(exclude) == list:\n",
    "            for w in exclude:\n",
    "                counter[w] = None\n",
    "        else:\n",
    "            counter[exclude] = None \n",
    "    \n",
    "    # Turns the counter dict into a dataframe for easier plotting\n",
    "    df = pd.DataFrame(data={\"Words\": list(counter.keys()), \"Count\":list(counter.values())}).sort_values(\"Count\", ascending=False)\n",
    "    # Plots n_to_plot most frequent words as a bar chart\n",
    "    return df.iloc[:n_words,].plot(kind=\"bar\", x=\"Words\", y=\"Count\")"
   ]
  },
  {
   "cell_type": "code",
   "execution_count": 6,
   "metadata": {},
   "outputs": [
    {
     "name": "stdout",
     "output_type": "stream",
     "text": [
      "[{'message': 'Rate limit exceeded', 'code': 88}]\n",
      "Number of tweets studied:  9393\n",
      "Number of duplicates (sanity check): 0\n",
      "Percentage of positive tweets:  28.18 %\n",
      "Percentage of negative tweets:  6.46 %\n"
     ]
    },
    {
     "data": {
      "image/png": "[encoded data removed]",
      "text/plain": [
       "<Figure size 432x288 with 1 Axes>"
      ]
     },
     "metadata": {
      "needs_background": "light"
     },
     "output_type": "display_data"
    },
    {
     "data": {
      "image/png": "[encoded data removed]",
      "text/plain": [
       "<Figure size 432x288 with 1 Axes>"
      ]
     },
     "metadata": {
      "needs_background": "light"
     },
     "output_type": "display_data"
    }
   ],
   "source": [
    "tweets = get_tweets_text(keyword=\"brexit\", n_tweets=1000)\n",
    "result_sent_analysis = sentiment_analysis(tweets)\n",
    "ax_freq_words = plot_frequent_words(tweets, exclude=[\"brexit\"], n_words=20)"
   ]
  }
 ],
 "metadata": {
  "kernelspec": {
   "display_name": "Python 3",
   "language": "python",
   "name": "python3"
  },
  "language_info": {
   "codemirror_mode": {
    "name": "ipython",
    "version": 3
   },
   "file_extension": ".py",
   "mimetype": "text/x-python",
   "name": "python",
   "nbconvert_exporter": "python",
   "pygments_lexer": "ipython3",
   "version": "3.7.0"
  }
 },
 "nbformat": 4,
 "nbformat_minor": 2
}
